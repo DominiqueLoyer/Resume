{
 "cells": [
  {
   "cell_type": "code",
   "execution_count": null,
   "metadata": {
    "id": "_GjAQnHstrh6"
   },
   "outputs": [],
   "source": [
    "import warnings\n",
    "import itertools\n",
    "import numpy as np\n",
    "import matplotlib.pyplot as plt\n",
    "warnings.filterwarnings(\"ignore\")\n",
    "plt.style.use('fivethirtyeight')\n",
    "import pandas as pd\n",
    "import statsmodels.api as sm\n",
    "import matplotlib\n",
    "\n",
    "matplotlib.rcParams['axes.labelsize'] = 14\n",
    "matplotlib.rcParams['xtick.labelsize'] = 12\n",
    "matplotlib.rcParams['ytick.labelsize'] = 12\n",
    "matplotlib.rcParams['text.color'] = 'k'"
   ]
  },
  {
   "cell_type": "code",
   "execution_count": null,
   "metadata": {
    "id": "l9dIMeeKtrh8"
   },
   "outputs": [],
   "source": [
    "We are going to do time series analysis and forecasting for furniture sales."
   ]
  },
  {
   "cell_type": "code",
   "execution_count": 1,
   "metadata": {
    "id": "d9dEPVcEtriD"
   },
   "outputs": [
    {
     "ename": "NameError",
     "evalue": "name 'pd' is not defined",
     "output_type": "error",
     "traceback": [
      "\u001b[0;31m---------------------------------------------------------------------------\u001b[0m",
      "\u001b[0;31mNameError\u001b[0m                                 Traceback (most recent call last)",
      "\u001b[0;32m<ipython-input-1-b5149123b8c8>\u001b[0m in \u001b[0;36m<module>\u001b[0;34m\u001b[0m\n\u001b[0;32m----> 1\u001b[0;31m \u001b[0mdf\u001b[0m \u001b[0;34m=\u001b[0m \u001b[0mpd\u001b[0m\u001b[0;34m.\u001b[0m\u001b[0mread_excel\u001b[0m\u001b[0;34m(\u001b[0m\u001b[0;34m\"Superstore.xls\"\u001b[0m\u001b[0;34m)\u001b[0m\u001b[0;34m\u001b[0m\u001b[0;34m\u001b[0m\u001b[0m\n\u001b[0m\u001b[1;32m      2\u001b[0m \u001b[0mfurniture\u001b[0m \u001b[0;34m=\u001b[0m \u001b[0mdf\u001b[0m\u001b[0;34m.\u001b[0m\u001b[0mloc\u001b[0m\u001b[0;34m[\u001b[0m\u001b[0mdf\u001b[0m\u001b[0;34m[\u001b[0m\u001b[0;34m'Category'\u001b[0m\u001b[0;34m]\u001b[0m \u001b[0;34m==\u001b[0m \u001b[0;34m'Furniture'\u001b[0m\u001b[0;34m]\u001b[0m\u001b[0;34m\u001b[0m\u001b[0;34m\u001b[0m\u001b[0m\n",
      "\u001b[0;31mNameError\u001b[0m: name 'pd' is not defined"
     ]
    }
   ],
   "source": [
    "df = pd.read_excel(\"Superstore.xls\")\n",
    "furniture = df.loc[df['Category'] == 'Furniture']"
   ]
  },
  {
   "cell_type": "markdown",
   "metadata": {
    "id": "xG3QZzJItriD"
   },
   "source": [
    "We have a good 4-year furniture sales data. "
   ]
  },
  {
   "cell_type": "code",
   "execution_count": null,
   "metadata": {
    "id": "xpsyF7lbtriE",
    "outputId": "b15a5a19-d8d6-4105-c17d-e7d3e04075aa"
   },
   "outputs": [],
   "source": [
    "furniture['Order Date'].min()"
   ]
  },
  {
   "cell_type": "code",
   "execution_count": null,
   "metadata": {
    "id": "ufd-BwnrtriF",
    "outputId": "7421d81e-3881-40f6-8144-d9c762a141f3"
   },
   "outputs": [],
   "source": [
    "furniture['Order Date'].max()"
   ]
  },
  {
   "cell_type": "markdown",
   "metadata": {
    "id": "2XWa2Av9triF"
   },
   "source": [
    "## Data preprocessing\n",
    "\n",
    "This step includes removing columns we do not need, check missing values, aggregate sales by date and so on."
   ]
  },
  {
   "cell_type": "code",
   "execution_count": null,
   "metadata": {
    "id": "qW4M6I8BtriG"
   },
   "outputs": [],
   "source": [
    "cols = ['Row ID', 'Order ID', 'Ship Date', 'Ship Mode', 'Customer ID', 'Customer Name', 'Segment', 'Country', 'City', 'State', 'Postal Code', 'Region', 'Product ID', 'Category', 'Sub-Category', 'Product Name', 'Quantity', 'Discount', 'Profit']\n",
    "furniture.drop(cols, axis=1, inplace=True)\n",
    "furniture = furniture.sort_values('Order Date')"
   ]
  },
  {
   "cell_type": "code",
   "execution_count": null,
   "metadata": {
    "id": "MdvCvNUVtriG",
    "outputId": "2a0d77bf-c41e-42b5-b126-dc2a1a1da392"
   },
   "outputs": [],
   "source": [
    "furniture.isnull().sum()"
   ]
  },
  {
   "cell_type": "code",
   "execution_count": null,
   "metadata": {
    "id": "SK_6Fu8ptriH"
   },
   "outputs": [],
   "source": [
    "furniture = furniture.groupby('Order Date')['Sales'].sum().reset_index()"
   ]
  },
  {
   "cell_type": "code",
   "execution_count": null,
   "metadata": {
    "id": "1yikDDQitriH",
    "outputId": "a94f35ad-a614-4598-8888-c19323215f69"
   },
   "outputs": [],
   "source": [
    "furniture.head()"
   ]
  },
  {
   "cell_type": "markdown",
   "metadata": {
    "id": "GiZMo_DktriI"
   },
   "source": [
    "## Indexing with time series data"
   ]
  },
  {
   "cell_type": "code",
   "execution_count": null,
   "metadata": {
    "id": "JSPGldrxtriI",
    "outputId": "27a0bcd4-8f88-4d0d-8832-a3e24c66a008"
   },
   "outputs": [],
   "source": [
    "furniture = furniture.set_index('Order Date')\n",
    "furniture.index"
   ]
  },
  {
   "cell_type": "markdown",
   "metadata": {
    "id": "9vEfUfKjtriJ"
   },
   "source": [
    "Our current datetime data can be tricky to work with, therefore, we will use the averages daily sales value for that month instead, and we are using the start of each month as the timestamp."
   ]
  },
  {
   "cell_type": "code",
   "execution_count": null,
   "metadata": {
    "id": "5bjMwD-StriJ"
   },
   "outputs": [],
   "source": [
    "y = furniture['Sales'].resample('MS').mean()"
   ]
  },
  {
   "cell_type": "markdown",
   "metadata": {
    "id": "0W6zVrNjtriK"
   },
   "source": [
    "Have a quick peek 2017 sales data."
   ]
  },
  {
   "cell_type": "code",
   "execution_count": null,
   "metadata": {
    "id": "CSM8HQTztriK",
    "outputId": "432ae815-7be0-4f0e-f8ae-18fac29f20a1"
   },
   "outputs": [],
   "source": [
    "y['2017':]"
   ]
  },
  {
   "cell_type": "markdown",
   "metadata": {
    "id": "8kEDMHeptriL"
   },
   "source": [
    "## Visualizing furniture sales time series data"
   ]
  },
  {
   "cell_type": "code",
   "execution_count": null,
   "metadata": {
    "id": "TsU3MdahtriM",
    "outputId": "c2a12d37-fff5-4ee2-b62e-f754363712f4"
   },
   "outputs": [],
   "source": [
    "y.plot(figsize=(15, 6))\n",
    "plt.show()"
   ]
  },
  {
   "cell_type": "markdown",
   "metadata": {
    "id": "35Ti0LJatriM"
   },
   "source": [
    "Some distinguishable patterns appear when we plot the data. The time-series has seasonality pattern, such as sales are always low at the beginning of the year and high at the end of the year. There is always a strong upward trend within any single year with a couple of low months in the mid of the year.\n",
    "\n",
    "We can also visualize our data using a method called time-series decomposition that allows us to decompose our time series into three distinct components: trend, seasonality, and noise."
   ]
  },
  {
   "cell_type": "code",
   "execution_count": null,
   "metadata": {
    "id": "HIeBw5YstriN",
    "outputId": "de7fd801-265c-414d-e63e-ad95037a01d3"
   },
   "outputs": [],
   "source": [
    "from pylab import rcParams\n",
    "rcParams['figure.figsize'] = 18, 8\n",
    "\n",
    "decomposition = sm.tsa.seasonal_decompose(y, model='additive')\n",
    "fig = decomposition.plot()\n",
    "plt.show()"
   ]
  },
  {
   "cell_type": "markdown",
   "metadata": {
    "id": "sTnYm91BtriN"
   },
   "source": [
    "The plot above clearly shows that the sales of furniture is unstable, along with its obvious seasonality."
   ]
  },
  {
   "cell_type": "markdown",
   "metadata": {
    "id": "cxLSiVmmtriO"
   },
   "source": [
    "## Time series forecasting with ARIMA\n",
    "\n",
    "We are going to apply one of the most commonly used method for time-series forecasting, known as ARIMA, which stands for Autoregressive Integrated Moving Average.\n",
    "\n",
    "Parameter Selection for the ARIMA Time Series Model"
   ]
  },
  {
   "cell_type": "code",
   "execution_count": null,
   "metadata": {
    "id": "USGkjZSYtriO",
    "outputId": "a7dddb26-d22e-4c49-9f25-0ebff66482dd"
   },
   "outputs": [],
   "source": [
    "p = d = q = range(0, 2)\n",
    "pdq = list(itertools.product(p, d, q))\n",
    "seasonal_pdq = [(x[0], x[1], x[2], 12) for x in list(itertools.product(p, d, q))]\n",
    "\n",
    "print('Examples of parameter combinations for Seasonal ARIMA...')\n",
    "print('SARIMAX: {} x {}'.format(pdq[1], seasonal_pdq[1]))\n",
    "print('SARIMAX: {} x {}'.format(pdq[1], seasonal_pdq[2]))\n",
    "print('SARIMAX: {} x {}'.format(pdq[2], seasonal_pdq[3]))\n",
    "print('SARIMAX: {} x {}'.format(pdq[2], seasonal_pdq[4]))"
   ]
  },
  {
   "cell_type": "code",
   "execution_count": null,
   "metadata": {
    "id": "4TlbJm5-triP",
    "outputId": "161bb5eb-dcab-47b4-f20c-620d51ac193f"
   },
   "outputs": [],
   "source": [
    "for param in pdq:\n",
    "    for param_seasonal in seasonal_pdq:\n",
    "        try:\n",
    "            mod = sm.tsa.statespace.SARIMAX(y,\n",
    "                                            order=param,\n",
    "                                            seasonal_order=param_seasonal,\n",
    "                                            enforce_stationarity=False,\n",
    "                                            enforce_invertibility=False)\n",
    "\n",
    "            results = mod.fit()\n",
    "\n",
    "            print('ARIMA{}x{}12 - AIC:{}'.format(param, param_seasonal, results.aic))\n",
    "        except:\n",
    "            continue"
   ]
  },
  {
   "cell_type": "code",
   "execution_count": null,
   "metadata": {
    "id": "vxoqafGjtriP",
    "outputId": "30fbfb09-e99d-4d57-e201-98199c5e0d87"
   },
   "outputs": [],
   "source": [
    "mod = sm.tsa.statespace.SARIMAX(y,\n",
    "                                order=(1, 1, 1),\n",
    "                                seasonal_order=(1, 1, 0, 12),\n",
    "                                enforce_stationarity=False,\n",
    "                                enforce_invertibility=False)\n",
    "\n",
    "results = mod.fit()\n",
    "\n",
    "print(results.summary().tables[1])"
   ]
  },
  {
   "cell_type": "code",
   "execution_count": null,
   "metadata": {
    "id": "xo90FYQUtriQ",
    "outputId": "e49318c3-1a05-4bda-a57b-af068946ec7f"
   },
   "outputs": [],
   "source": [
    "results.plot_diagnostics(figsize=(16, 8))\n",
    "plt.show()"
   ]
  },
  {
   "cell_type": "markdown",
   "metadata": {
    "id": "aPx0BufKtriQ"
   },
   "source": [
    "## Validating forecasts\n",
    "\n",
    "To help us understand the accuracy of our forecasts, we compare predicted sales to real sales of the time series, and we set forecasts to start at 2017-07-01 to the end of the data."
   ]
  },
  {
   "cell_type": "code",
   "execution_count": null,
   "metadata": {
    "id": "k8c0LHpdtriQ",
    "outputId": "a19fe20b-82ee-4925-8169-26ac12964079"
   },
   "outputs": [],
   "source": [
    "pred = results.get_prediction(start=pd.to_datetime('2017-01-01'), dynamic=False)\n",
    "pred_ci = pred.conf_int()\n",
    "\n",
    "ax = y['2014':].plot(label='observed')\n",
    "pred.predicted_mean.plot(ax=ax, label='One-step ahead Forecast', alpha=.7, figsize=(14, 7))\n",
    "\n",
    "ax.fill_between(pred_ci.index,\n",
    "                pred_ci.iloc[:, 0],\n",
    "                pred_ci.iloc[:, 1], color='k', alpha=.2)\n",
    "\n",
    "ax.set_xlabel('Date')\n",
    "ax.set_ylabel('Furniture Sales')\n",
    "plt.legend()\n",
    "\n",
    "plt.show()"
   ]
  },
  {
   "cell_type": "markdown",
   "metadata": {
    "id": "ox9GYyKutriR"
   },
   "source": [
    "The line plot is showing the observed values compared to the rolling forecast predictions. Overall, our forecasts align with the true values very well, showing an upward trend starts from the beginning of the year."
   ]
  },
  {
   "cell_type": "code",
   "execution_count": null,
   "metadata": {
    "id": "PmsTsWKUtriR",
    "outputId": "a564dd94-4bec-4ec0-c467-3626e055f08a"
   },
   "outputs": [],
   "source": [
    "y_forecasted = pred.predicted_mean\n",
    "y_truth = y['2017-01-01':]\n",
    "\n",
    "# Compute the mean square error\n",
    "mse = ((y_forecasted - y_truth) ** 2).mean()\n",
    "print('The Mean Squared Error of our forecasts is {}'.format(round(mse, 2)))"
   ]
  },
  {
   "cell_type": "code",
   "execution_count": null,
   "metadata": {
    "id": "8E9CREp5triS",
    "outputId": "dffa573f-7c3b-4d0d-dc5f-db97118c1b3f"
   },
   "outputs": [],
   "source": [
    "print('The Root Mean Squared Error of our forecasts is {}'.format(round(np.sqrt(mse), 2)))"
   ]
  },
  {
   "cell_type": "markdown",
   "metadata": {
    "id": "fyDJZ5iItriS"
   },
   "source": [
    "In statistics, the mean squared error (MSE) of an estimator measures the average of the squares of the errors — that is, the average squared difference between the estimated values and what is estimated. The MSE is a measure of the quality of an estimator—it is always non-negative, and the smaller the MSE, the closer we are to finding the line of best fit.\n",
    "\n",
    "Root Mean Square Error (RMSE) tells us that our model was able to forecast the average daily furniture sales in the test set within 151.64 of the real sales. Our furniture daily sales range from around 400 to over 1200. In my opinion, this is a pretty good model so far."
   ]
  },
  {
   "cell_type": "markdown",
   "metadata": {
    "id": "eFocYVdmtriS"
   },
   "source": [
    "## Producing and visualizing forecasts"
   ]
  },
  {
   "cell_type": "code",
   "execution_count": null,
   "metadata": {
    "id": "P4Aj1BV2triT",
    "outputId": "7a0d75a4-363c-4453-e220-ed47cf11c554"
   },
   "outputs": [],
   "source": [
    "pred_uc = results.get_forecast(steps=100)\n",
    "pred_ci = pred_uc.conf_int()\n",
    "\n",
    "ax = y.plot(label='observed', figsize=(14, 7))\n",
    "pred_uc.predicted_mean.plot(ax=ax, label='Forecast')\n",
    "ax.fill_between(pred_ci.index,\n",
    "                pred_ci.iloc[:, 0],\n",
    "                pred_ci.iloc[:, 1], color='k', alpha=.25)\n",
    "ax.set_xlabel('Date')\n",
    "ax.set_ylabel('Furniture Sales')\n",
    "\n",
    "plt.legend()\n",
    "plt.show()"
   ]
  },
  {
   "cell_type": "markdown",
   "metadata": {
    "id": "hjtx7tEdtriT"
   },
   "source": [
    "Our model clearly captured furniture sales seasonality. As we forecast further out into the future, it is natural for us to become less confident in our values. This is reflected by the confidence intervals generated by our model, which grow larger as we move further out into the future."
   ]
  },
  {
   "cell_type": "markdown",
   "metadata": {
    "id": "MNSi-VDatriT"
   },
   "source": [
    "The above time series analysis for furniture makes me curious about other categories, and how do they compare with each other onver time. Therefore, we are going to compare time series of furniture and office supplier."
   ]
  },
  {
   "cell_type": "markdown",
   "metadata": {
    "id": "dc_8Hwv4triT"
   },
   "source": [
    "## Time Series comparison furniture sales and Office Supplies\n",
    "\n",
    "### Data Preprocessing"
   ]
  },
  {
   "cell_type": "code",
   "execution_count": null,
   "metadata": {
    "id": "uU4jwbk9triU"
   },
   "outputs": [],
   "source": [
    "furniture = df.loc[df['Category'] == 'Furniture']\n",
    "office = df.loc[df['Category'] == 'Office Supplies']"
   ]
  },
  {
   "cell_type": "markdown",
   "metadata": {
    "id": "AmUgPczYtriU"
   },
   "source": [
    "According to our data, there were way more number of sales from Office Supplies than from Furniture over the years."
   ]
  },
  {
   "cell_type": "code",
   "execution_count": null,
   "metadata": {
    "id": "pKQLbhKNtriU",
    "outputId": "ecd2021a-d2a4-40ca-8ead-8a2921144a2d"
   },
   "outputs": [],
   "source": [
    "furniture.shape, office.shape"
   ]
  },
  {
   "cell_type": "code",
   "execution_count": null,
   "metadata": {
    "id": "1ch9Q0E5triU"
   },
   "outputs": [],
   "source": [
    "cols = ['Row ID', 'Order ID', 'Ship Date', 'Ship Mode', 'Customer ID', 'Customer Name', 'Segment', 'Country', 'City', 'State', 'Postal Code', 'Region', 'Product ID', 'Category', 'Sub-Category', 'Product Name', 'Quantity', 'Discount', 'Profit']\n",
    "furniture.drop(cols, axis=1, inplace=True)\n",
    "office.drop(cols, axis=1, inplace=True)\n",
    "\n",
    "furniture = furniture.sort_values('Order Date')\n",
    "office = office.sort_values('Order Date')\n",
    "\n",
    "furniture = furniture.groupby('Order Date')['Sales'].sum().reset_index()\n",
    "office = office.groupby('Order Date')['Sales'].sum().reset_index()"
   ]
  },
  {
   "cell_type": "markdown",
   "metadata": {
    "id": "ZhVMJSk9triV"
   },
   "source": [
    "Have a quick peek, perfect!"
   ]
  },
  {
   "cell_type": "code",
   "execution_count": null,
   "metadata": {
    "id": "JSXSdKLCtriV",
    "outputId": "9b5e50ce-5b63-414a-c25b-943ce7222c49"
   },
   "outputs": [],
   "source": [
    "furniture.head()"
   ]
  },
  {
   "cell_type": "code",
   "execution_count": null,
   "metadata": {
    "id": "TrR3bpxEtriV",
    "outputId": "74bea4f4-8ccf-47c1-d0d8-310a4cb8db56"
   },
   "outputs": [],
   "source": [
    "office.head()"
   ]
  },
  {
   "cell_type": "markdown",
   "metadata": {
    "id": "qlm5Cr7mtriV"
   },
   "source": [
    "### Data exploration\n",
    "\n",
    "We are going to compare two categories' sales in the same time period. This means combine two data frames into one and plot these two categories' time series into one plot."
   ]
  },
  {
   "cell_type": "code",
   "execution_count": null,
   "metadata": {
    "id": "ACzRYnS4triW",
    "outputId": "5fba5352-4257-4b21-f66a-9f19ff5253d0"
   },
   "outputs": [],
   "source": [
    "furniture = furniture.set_index('Order Date')\n",
    "office = office.set_index('Order Date')\n",
    "\n",
    "y_furniture = furniture['Sales'].resample('MS').mean()\n",
    "y_office = office['Sales'].resample('MS').mean()\n",
    "\n",
    "furniture = pd.DataFrame({'Order Date':y_furniture.index, 'Sales':y_furniture.values})\n",
    "office = pd.DataFrame({'Order Date': y_office.index, 'Sales': y_office.values})\n",
    "\n",
    "store = furniture.merge(office, how='inner', on='Order Date')\n",
    "store.rename(columns={'Sales_x': 'furniture_sales', 'Sales_y': 'office_sales'}, inplace=True)\n",
    "store.head()"
   ]
  },
  {
   "cell_type": "code",
   "execution_count": null,
   "metadata": {
    "id": "v5mUIWZ3triW",
    "outputId": "f3e8aed2-e0a7-4b57-920b-bfdd38dd43f2"
   },
   "outputs": [],
   "source": [
    "plt.figure(figsize=(20, 8))\n",
    "plt.plot(store['Order Date'], store['furniture_sales'], 'b-', label = 'furniture')\n",
    "plt.plot(store['Order Date'], store['office_sales'], 'r-', label = 'office supplies')\n",
    "plt.xlabel('Date'); plt.ylabel('Sales'); plt.title('Sales of Furniture and Office Supplies')\n",
    "plt.legend();"
   ]
  },
  {
   "cell_type": "markdown",
   "metadata": {
    "id": "WYBvaSj9triW"
   },
   "source": [
    "We observe that sales of furniture and office supplies shared a similar seasonal pattern. Early of the year is the off season for both of the two categories. It seems summer time is quiet for office supplies too. in addition, average daily sales for furniture are higher than those of office supplies in most of the months. It is understandable, as the value of furniture should be much higher than those of office supplies. Occationaly, office supplies passed furnitue on average daily sales. Let's find out when was the first time office supplies' sales surpassed those of furniture's. "
   ]
  },
  {
   "cell_type": "code",
   "execution_count": null,
   "metadata": {
    "id": "r5qbK7HftriX",
    "outputId": "a73e5803-7b6d-407c-ce1c-63f29a46c95d"
   },
   "outputs": [],
   "source": [
    "first_date = store.ix[np.min(list(np.where(store['office_sales'] > store['furniture_sales'])[0])), 'Order Date']\n",
    "\n",
    "print(\"Office supplies first time produced higher sales than furniture is {}.\".format(first_date.date()))"
   ]
  },
  {
   "cell_type": "markdown",
   "metadata": {
    "id": "wYKmqBOutriX"
   },
   "source": [
    "It was July 2014."
   ]
  },
  {
   "cell_type": "markdown",
   "metadata": {
    "id": "-TFBTjkktriX"
   },
   "source": [
    "### Time Series Modeling with Prophet\n",
    "\n",
    "Released by Facebook in 2017, forecasting tool Prophet is designed for analyzing time-series that display patterns on different time scales such as yearly, weekly and daily. It also has advanced capabilities for modeling the effects of holidays on a time-series and implementing custom changepoints. Therefore, we are using Prophet to get a model up and running."
   ]
  },
  {
   "cell_type": "code",
   "execution_count": null,
   "metadata": {
    "id": "WndTiB0jtriX",
    "outputId": "05397284-869a-4847-9a6f-b0b93b5ba65f"
   },
   "outputs": [],
   "source": [
    "from fbprophet import Prophet\n",
    "\n",
    "furniture = furniture.rename(columns={'Order Date': 'ds', 'Sales': 'y'})\n",
    "furniture_model = Prophet(interval_width=0.95)\n",
    "furniture_model.fit(furniture)\n",
    "\n",
    "office = office.rename(columns={'Order Date': 'ds', 'Sales': 'y'})\n",
    "office_model = Prophet(interval_width=0.95)\n",
    "office_model.fit(office)"
   ]
  },
  {
   "cell_type": "code",
   "execution_count": null,
   "metadata": {
    "id": "l_DAZLXwtriY"
   },
   "outputs": [],
   "source": [
    "furniture_forecast = furniture_model.make_future_dataframe(periods=36, freq='MS')\n",
    "furniture_forecast = furniture_model.predict(furniture_forecast)\n",
    "\n",
    "office_forecast = office_model.make_future_dataframe(periods=36, freq='MS')\n",
    "office_forecast = office_model.predict(office_forecast)"
   ]
  },
  {
   "cell_type": "code",
   "execution_count": null,
   "metadata": {
    "id": "v6TS0hEYtriY",
    "outputId": "ab9f69f5-82dc-4319-ec30-812598185519"
   },
   "outputs": [],
   "source": [
    "plt.figure(figsize=(18, 6))\n",
    "furniture_model.plot(furniture_forecast, xlabel = 'Date', ylabel = 'Sales')\n",
    "plt.title('Furniture Sales');"
   ]
  },
  {
   "cell_type": "code",
   "execution_count": null,
   "metadata": {
    "id": "L7FanLDYtriY",
    "outputId": "8bd7787e-040d-4d9b-81c7-d868e105c751"
   },
   "outputs": [],
   "source": [
    "plt.figure(figsize=(18, 6))\n",
    "office_model.plot(office_forecast, xlabel = 'Date', ylabel = 'Sales')\n",
    "plt.title('Office Supplies Sales');"
   ]
  },
  {
   "cell_type": "markdown",
   "metadata": {
    "id": "xBl8xbSDtrib"
   },
   "source": [
    "### Compare Forecasts\n",
    "\n",
    "We already have the forecasts for three years for these two categories into the future. We will now join them together to compare their future forecasts."
   ]
  },
  {
   "cell_type": "code",
   "execution_count": null,
   "metadata": {
    "id": "BgGQetgntric",
    "outputId": "e2e4f2e7-58a4-434d-832f-1c53002f7abf"
   },
   "outputs": [],
   "source": [
    "furniture_names = ['furniture_%s' % column for column in furniture_forecast.columns]\n",
    "office_names = ['office_%s' % column for column in office_forecast.columns]\n",
    "\n",
    "merge_furniture_forecast = furniture_forecast.copy()\n",
    "merge_office_forecast = office_forecast.copy()\n",
    "\n",
    "merge_furniture_forecast.columns = furniture_names\n",
    "merge_office_forecast.columns = office_names\n",
    "\n",
    "forecast = pd.merge(merge_furniture_forecast, merge_office_forecast, how = 'inner', left_on = 'furniture_ds', right_on = 'office_ds')\n",
    "\n",
    "forecast = forecast.rename(columns={'furniture_ds': 'Date'}).drop('office_ds', axis=1)\n",
    "forecast.head()"
   ]
  },
  {
   "cell_type": "markdown",
   "metadata": {
    "id": "MMRClMkftrid"
   },
   "source": [
    "### Visualizing the trend and the forecast"
   ]
  },
  {
   "cell_type": "code",
   "execution_count": null,
   "metadata": {
    "id": "22aXKLOitrie",
    "outputId": "2fd463d0-9f25-4c99-c613-81d0108ec2f9"
   },
   "outputs": [],
   "source": [
    "plt.figure(figsize=(10, 7))\n",
    "plt.plot(forecast['Date'], forecast['furniture_trend'], 'b-')\n",
    "plt.plot(forecast['Date'], forecast['office_trend'], 'r-')\n",
    "plt.legend(); plt.xlabel('Date'); plt.ylabel('Sales')\n",
    "plt.title('Furniture vs. Office Supplies Sales Trend');"
   ]
  },
  {
   "cell_type": "code",
   "execution_count": null,
   "metadata": {
    "id": "pJenKKrPtrie",
    "outputId": "ff1dfc7c-26bd-461b-cf5c-f7f9aa00a127"
   },
   "outputs": [],
   "source": [
    "plt.figure(figsize=(10, 7))\n",
    "plt.plot(forecast['Date'], forecast['furniture_yhat'], 'b-')\n",
    "plt.plot(forecast['Date'], forecast['office_yhat'], 'r-')\n",
    "plt.legend(); plt.xlabel('Date'); plt.ylabel('Sales')\n",
    "plt.title('Furniture vs. Office Supplies Estimate');"
   ]
  },
  {
   "cell_type": "markdown",
   "metadata": {
    "id": "q9_UP8intrie"
   },
   "source": [
    "### Trends and Patterns\n",
    "\n",
    "Now, we can use the Prophet Models to inspect different trends of these two categories in the data."
   ]
  },
  {
   "cell_type": "code",
   "execution_count": null,
   "metadata": {
    "id": "hgTqGlAItrif",
    "outputId": "94c4e4aa-f7c2-44dc-f390-c092f918a62a"
   },
   "outputs": [],
   "source": [
    "furniture_model.plot_components(furniture_forecast);"
   ]
  },
  {
   "cell_type": "code",
   "execution_count": null,
   "metadata": {
    "id": "oqX3jsSdtrif",
    "outputId": "2793a00e-c45e-4a18-b4df-2eb60402c768"
   },
   "outputs": [],
   "source": [
    "office_model.plot_components(office_forecast);"
   ]
  },
  {
   "cell_type": "markdown",
   "metadata": {
    "id": "AZGJenw-trig"
   },
   "source": [
    "Good to see that the sales for both furniture and office supplies have been linearly increasing over time although office supplies' growth seems slightly stronger.\n",
    "\n",
    "The worst month for furniture is April, the worst month for office supplies is February. The best month for furniture is December, and the best month for office supplies is November.\n",
    "\n",
    "There are many time-series analysis we can explore from now on, such as forecast with uncertainty bounds, change point and anomaly detection, forecast time-series with external data source. We have only scratched the surface here. Stay tuned for future works on time-series analysis."
   ]
  },
  {
   "cell_type": "code",
   "execution_count": null,
   "metadata": {
    "id": "wjg1oVwZtrig"
   },
   "outputs": [],
   "source": []
  },
  {
   "cell_type": "code",
   "execution_count": null,
   "metadata": {},
   "outputs": [],
   "source": []
  },
  {
   "cell_type": "code",
   "execution_count": null,
   "metadata": {},
   "outputs": [],
   "source": []
  }
 ],
 "metadata": {
  "colab": {
   "provenance": []
  },
  "kernelspec": {
   "display_name": "Python 3",
   "language": "python",
   "name": "python3"
  },
  "language_info": {
   "codemirror_mode": {
    "name": "ipython",
    "version": 3
   },
   "file_extension": ".py",
   "mimetype": "text/x-python",
   "name": "python",
   "nbconvert_exporter": "python",
   "pygments_lexer": "ipython3",
   "version": "3.7.1"
  }
 },
 "nbformat": 4,
 "nbformat_minor": 1
}
